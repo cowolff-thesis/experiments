{
 "cells": [
  {
   "cell_type": "code",
   "execution_count": 10,
   "metadata": {},
   "outputs": [],
   "source": [
    "from ThesisPackage.Environments.multi_pong_language import PongEnv\n",
    "from ThesisPackage.Environments.multi_pong_sender_receiver import PongEnvSenderReceiver\n",
    "from ThesisPackage.RL.Seperated_PPO.multi_ppo import PPO_Separate_Multi_Agent\n",
    "import torch\n",
    "import numpy as np\n",
    "import time\n",
    "import os"
   ]
  },
  {
   "cell_type": "code",
   "execution_count": 11,
   "metadata": {},
   "outputs": [],
   "source": [
    "def run_experiment(agents, env, vocab_size, sequence_length, render=False, epochs=50):\n",
    "    lengths = []\n",
    "    tokens = {agent: {i: {j:0 for j in range(vocab_size)} for i in range(sequence_length)} for agent in agents.keys()}\n",
    "    for i in range(100):\n",
    "        obs, info = env.reset()\n",
    "        obs = {agent: torch.Tensor(obs[agent]) for agent in env.agents}\n",
    "        done = {agent: False for agent in env.agents}\n",
    "        while not any(done.values()):\n",
    "            actions = {}\n",
    "            for agent in env.agents:\n",
    "                action, logprob, _, value = agents[agent].get_action_and_value(obs[agent].unsqueeze(0))\n",
    "                action = action.cpu().numpy()\n",
    "                utterances = action[0][1:]\n",
    "                for i, utterance in enumerate(utterances):\n",
    "                    tokens[agent][i][utterance] += 1\n",
    "                actions[agent] = action[0]\n",
    "            if render:\n",
    "                try:\n",
    "                    env.render()\n",
    "                    time.sleep(0.02)\n",
    "                except IndexError:\n",
    "                    pass\n",
    "\n",
    "            obs, rewards, terminated, truncated, info = env.step(actions)\n",
    "            obs = {agent: torch.Tensor(obs[agent]) for agent in env.agents}\n",
    "            terminated = {agent: terminated[agent] for agent in env.agents}\n",
    "            truncated = {agent: truncated[agent] for agent in env.agents}\n",
    "            if any(truncated.values()) or any(terminated.values()):\n",
    "                lengths.append(env.timestep)\n",
    "                done = {agent: True for agent in env.agents}\n",
    "                break\n",
    "    return lengths, tokens"
   ]
  },
  {
   "cell_type": "code",
   "execution_count": 12,
   "metadata": {},
   "outputs": [],
   "source": [
    "def make_env(seed, vocab_size, sequence_length, max_episode_steps):\n",
    "    env = PongEnv(width=20, height=20, vocab_size=vocab_size, sequence_length=sequence_length, max_episode_steps=max_episode_steps)\n",
    "    return env\n",
    "\n",
    "def make_env_sender_receiver(seed, vocab_size, sequence_length, max_episode_steps, receiver=\"paddle_2\", mute=\"zero\"):\n",
    "    env = PongEnvSenderReceiver(width=20, height=20, vocab_size=vocab_size, sequence_length=sequence_length, max_episode_steps=max_episode_steps, self_play=True, receiver=receiver, mute_method=mute)\n",
    "    return env"
   ]
  },
  {
   "cell_type": "code",
   "execution_count": 13,
   "metadata": {},
   "outputs": [],
   "source": [
    "sequence_length = 2\n",
    "vocab_size = 3"
   ]
  },
  {
   "cell_type": "code",
   "execution_count": 14,
   "metadata": {},
   "outputs": [],
   "source": [
    "results = []"
   ]
  },
  {
   "cell_type": "code",
   "execution_count": 15,
   "metadata": {},
   "outputs": [
    {
     "name": "stderr",
     "output_type": "stream",
     "text": [
      "/Users/cowolff/miniconda3/envs/thesis/lib/python3.10/site-packages/gym/spaces/box.py:127: UserWarning: \u001b[33mWARN: Box bound precision lowered by casting to float16\u001b[0m\n",
      "  logger.warn(f\"Box bound precision lowered by casting to {self.dtype}\")\n"
     ]
    }
   ],
   "source": [
    "env = [make_env(1, vocab_size, sequence_length, 2048)]\n",
    "\n",
    "agent = PPO_Separate_Multi_Agent(env)\n",
    "agent.load(\"/Users/cowolff/Documents/GitHub/ma.pong_rl/models/seperate_network.zip\")"
   ]
  },
  {
   "cell_type": "code",
   "execution_count": 20,
   "metadata": {},
   "outputs": [],
   "source": [
    "results_dict = {\"default\": None, \"paddle_1\":{}, \"paddle_2\":{}}"
   ]
  },
  {
   "cell_type": "code",
   "execution_count": 21,
   "metadata": {},
   "outputs": [
    {
     "name": "stdout",
     "output_type": "stream",
     "text": [
      "1680.86\n"
     ]
    }
   ],
   "source": [
    "env = make_env(1, vocab_size, sequence_length, 2048)\n",
    "lengths, tokens = run_experiment(agent.agents, env, vocab_size, sequence_length)\n",
    "results_dict[\"default\"] = np.mean(lengths)\n",
    "print(np.mean(lengths))"
   ]
  },
  {
   "cell_type": "code",
   "execution_count": 22,
   "metadata": {},
   "outputs": [
    {
     "name": "stdout",
     "output_type": "stream",
     "text": [
      "874.49\n"
     ]
    }
   ],
   "source": [
    "env = make_env_sender_receiver(1, vocab_size, sequence_length, 2048)\n",
    "lengths, tokens = run_experiment(agent.agents, env, vocab_size, sequence_length)\n",
    "results_dict[\"paddle_1\"][\"zero\"] = np.mean(lengths)\n",
    "print(np.mean(lengths))"
   ]
  },
  {
   "cell_type": "code",
   "execution_count": 23,
   "metadata": {},
   "outputs": [
    {
     "name": "stdout",
     "output_type": "stream",
     "text": [
      "796.98\n"
     ]
    }
   ],
   "source": [
    "env = make_env_sender_receiver(1, vocab_size, sequence_length, 2048, mute=\"random\")\n",
    "lengths, tokens = run_experiment(agent.agents, env, vocab_size, sequence_length)\n",
    "results_dict[\"paddle_1\"][\"random\"] = np.mean(lengths)\n",
    "print(np.mean(lengths))"
   ]
  },
  {
   "cell_type": "code",
   "execution_count": 24,
   "metadata": {},
   "outputs": [
    {
     "name": "stdout",
     "output_type": "stream",
     "text": [
      "695.5\n"
     ]
    }
   ],
   "source": [
    "env = make_env_sender_receiver(1, vocab_size, sequence_length, 2048, receiver=\"paddle_1\", mute=\"zero\")\n",
    "lengths, tokens = run_experiment(agent.agents, env, vocab_size, sequence_length)\n",
    "results_dict[\"paddle_2\"][\"zero\"] = np.mean(lengths)\n",
    "print(np.mean(lengths))"
   ]
  },
  {
   "cell_type": "code",
   "execution_count": 25,
   "metadata": {},
   "outputs": [
    {
     "name": "stdout",
     "output_type": "stream",
     "text": [
      "835.43\n"
     ]
    }
   ],
   "source": [
    "env = make_env_sender_receiver(1, vocab_size, sequence_length, 2048, receiver=\"paddle_1\", mute=\"random\")\n",
    "lengths, tokens = run_experiment(agent.agents, env, vocab_size, sequence_length)\n",
    "results_dict[\"paddle_2\"][\"random\"] = np.mean(lengths)\n",
    "print(np.mean(lengths))"
   ]
  },
  {
   "cell_type": "code",
   "execution_count": 38,
   "metadata": {},
   "outputs": [
    {
     "data": {
      "image/png": "[encoded data removed]",
      "text/plain": [
       "<Figure size 600x400 with 1 Axes>"
      ]
     },
     "metadata": {},
     "output_type": "display_data"
    }
   ],
   "source": [
    "import pandas as pd\n",
    "import seaborn as sns\n",
    "import matplotlib.pyplot as plt\n",
    "\n",
    "# Transforming the dictionary into a list of tuples for easier DataFrame creation\n",
    "data_list = []\n",
    "for key, subdict in results_dict.items():\n",
    "    if isinstance(subdict, dict):\n",
    "        data_list.append((key, 'default', results_dict['default']))\n",
    "        for subkey, value in subdict.items():\n",
    "            data_list.append((key, subkey, value))\n",
    "\n",
    "# Creating the DataFrame\n",
    "df = pd.DataFrame(data_list, columns=['Category', 'Subcategory', 'Value'])\n",
    "\n",
    "# Plotting\n",
    "plt.figure(figsize=(6, 4))\n",
    "sns.barplot(x='Category', y='Value', hue='Subcategory', data=df)\n",
    "plt.title('Data Visualization')\n",
    "plt.ylabel('Values')\n",
    "plt.xlabel('Categories')\n",
    "plt.legend(title='Subcategory')\n",
    "plt.tight_layout()\n",
    "plt.show()"
   ]
  }
 ],
 "metadata": {
  "kernelspec": {
   "display_name": "thesis",
   "language": "python",
   "name": "python3"
  },
  "language_info": {
   "codemirror_mode": {
    "name": "ipython",
    "version": 3
   },
   "file_extension": ".py",
   "mimetype": "text/x-python",
   "name": "python",
   "nbconvert_exporter": "python",
   "pygments_lexer": "ipython3",
   "version": "3.10.13"
  }
 },
 "nbformat": 4,
 "nbformat_minor": 2
}

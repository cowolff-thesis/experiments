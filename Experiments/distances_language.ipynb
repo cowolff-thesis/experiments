{
 "cells": [
  {
   "cell_type": "code",
   "execution_count": 1,
   "metadata": {},
   "outputs": [
    {
     "name": "stderr",
     "output_type": "stream",
     "text": [
      "/home/cowolff/miniconda3/envs/language/lib/python3.10/site-packages/gym/spaces/box.py:84: UserWarning: \u001b[33mWARN: Box bound precision lowered by casting to float16\u001b[0m\n",
      "  logger.warn(f\"Box bound precision lowered by casting to {self.dtype}\")\n"
     ]
    },
    {
     "data": {
      "text/plain": [
       "Agent(\n",
       "  (critic): Sequential(\n",
       "    (0): Linear(in_features=12, out_features=128, bias=True)\n",
       "    (1): Tanh()\n",
       "    (2): Linear(in_features=128, out_features=64, bias=True)\n",
       "    (3): Tanh()\n",
       "    (4): Linear(in_features=64, out_features=1, bias=True)\n",
       "  )\n",
       "  (actor): Sequential(\n",
       "    (0): Linear(in_features=12, out_features=128, bias=True)\n",
       "    (1): Tanh()\n",
       "    (2): Linear(in_features=128, out_features=64, bias=True)\n",
       "    (3): Tanh()\n",
       "    (4): Linear(in_features=64, out_features=9, bias=True)\n",
       "  )\n",
       ")"
      ]
     },
     "execution_count": 1,
     "metadata": {},
     "output_type": "execute_result"
    }
   ],
   "source": [
    "from ThesisPackage.RL.agent import Agent\n",
    "from ThesisPackage.Environments.multi_pong_language import PongEnv\n",
    "import torch\n",
    "import numpy as np\n",
    "import time\n",
    "import os\n",
    "import seaborn as sns\n",
    "import matplotlib.pyplot as plt\n",
    "import random\n",
    "\n",
    "seed = 1\n",
    "num_envs = 1\n",
    "\n",
    "sequence_length = 2\n",
    "vocab_size = 3\n",
    "\n",
    "def replace_with_random_list(original_list, vocab_size):\n",
    "    \"\"\"\n",
    "    Replaces the contents of the original list with a random list of integers of the same size.\n",
    "    \n",
    "    Parameters:\n",
    "    - original_list: The list to be replaced.\n",
    "    \n",
    "    Returns:\n",
    "    A new list with random integers of the same length as the original list.\n",
    "    \"\"\"\n",
    "    # Get the length of the original list\n",
    "    length = len(original_list)\n",
    "    \n",
    "    # Generate a new list of random integers\n",
    "    # For simplicity, the range of integers is set from 0 to 100, but you can adjust this range as needed\n",
    "    random_list = [random.randint(0, vocab_size) for _ in range(length)]\n",
    "    \n",
    "    return random_list\n",
    "\n",
    "env = PongEnv(width=20, height=20, sequence_length=sequence_length, vocab_size=vocab_size, max_episode_steps=2048)\n",
    "env.action_space.seed(seed)\n",
    "env.observation_space.seed(seed)\n",
    "\n",
    "agent = Agent(env)\n",
    "agent.load_state_dict(torch.load('models/Pong__Language experiment__1__1706907676.pt'))\n",
    "agent.eval()"
   ]
  },
  {
   "cell_type": "code",
   "execution_count": 2,
   "metadata": {},
   "outputs": [],
   "source": [
    "def test_replace(replace=True, threshold=2, bigger=False, epochs=100):\n",
    "    lengths = []\n",
    "    distances = []\n",
    "    tokens = {i: [] for i in range(sequence_length)}\n",
    "    total_timesteps = 0\n",
    "    replaced_timesteps = 0\n",
    "    for i in range(epochs):\n",
    "        obs = env.reset()\n",
    "        obs = np.array([obs[agent] for agent in env.agents])\n",
    "        obs = torch.Tensor(obs)\n",
    "        done = [False]\n",
    "        reached_distance = False\n",
    "        while not any(done):\n",
    "            action, logprob, _, value = agent.get_action_and_value(obs)\n",
    "            action = action.cpu().numpy()\n",
    "\n",
    "            total_timesteps += 1\n",
    "\n",
    "            distance = abs(env.paddles[\"paddle_1\"] - env.paddles[\"paddle_2\"])\n",
    "\n",
    "            utterances = action[0][1:]\n",
    "            \n",
    "            if bigger and replace:\n",
    "                if distance < threshold:\n",
    "                    utterances = replace_with_random_list(utterances, vocab_size)\n",
    "                    action[0][1:] = utterances\n",
    "                    replaced_timesteps += 1\n",
    "            elif replace:\n",
    "                if distance > threshold:\n",
    "                    utterances = replace_with_random_list(utterances, vocab_size)\n",
    "                    action[0][1:] = utterances\n",
    "                    replaced_timesteps += 1\n",
    "\n",
    "            if distance > threshold:\n",
    "                reached_distance = True\n",
    "\n",
    "            for i, utterance in enumerate(utterances):\n",
    "                tokens[i].append(utterance)\n",
    "\n",
    "            action = {agent: action[i] for i, agent in enumerate(env.agents)}\n",
    "            \n",
    "            distance = abs(env.paddles[\"paddle_1\"] - env.paddles[\"paddle_2\"])\n",
    "            distances.append(distance)\n",
    "\n",
    "            obs, rewards, terminated, truncated, info = env.step(action)\n",
    "            obs = np.array([obs[agent] for agent in env.agents])\n",
    "            obs = torch.Tensor(obs)\n",
    "            done = {key: terminated.get(key, False) or truncated.get(key, False) for key in set(terminated) | set(truncated)}\n",
    "            done = [done[agent] for agent in env.agents]\n",
    "            if any(done):\n",
    "                if reached_distance:\n",
    "                    lengths.append(env.timestep)\n",
    "                break\n",
    "    \n",
    "    print(\"\\n\")\n",
    "    print(\"Mean episode length:\", np.mean(lengths))\n",
    "    print(\"total timesteps:\", total_timesteps, \"replaced timesteps:\", replaced_timesteps, \"percentage replaced:\", replaced_timesteps / total_timesteps)"
   ]
  },
  {
   "cell_type": "code",
   "execution_count": 3,
   "metadata": {},
   "outputs": [
    {
     "name": "stdout",
     "output_type": "stream",
     "text": [
      "\n",
      "\n",
      "Mean episode length: 572.21\n",
      "total timesteps: 114442 replaced timesteps: 32951 percentage replaced: 0.28792750913126297\n",
      "\n",
      "\n",
      "Mean episode length: 647.04\n",
      "total timesteps: 129408 replaced timesteps: 70451 percentage replaced: 0.544409928288823\n",
      "\n",
      "\n",
      "Mean episode length: 701.805\n",
      "total timesteps: 140361 replaced timesteps: 0 percentage replaced: 0.0\n"
     ]
    }
   ],
   "source": [
    "test_replace(replace=True, threshold=2, bigger=False, epochs=200)\n",
    "test_replace(replace=True, threshold=2, bigger=True, epochs=200)\n",
    "test_replace(replace=False, threshold=2, bigger=False, epochs=200)"
   ]
  }
 ],
 "metadata": {
  "kernelspec": {
   "display_name": "dfki",
   "language": "python",
   "name": "python3"
  },
  "language_info": {
   "codemirror_mode": {
    "name": "ipython",
    "version": 3
   },
   "file_extension": ".py",
   "mimetype": "text/x-python",
   "name": "python",
   "nbconvert_exporter": "python",
   "pygments_lexer": "ipython3",
   "version": "3.10.0"
  }
 },
 "nbformat": 4,
 "nbformat_minor": 2
}
